{
  "nbformat": 4,
  "nbformat_minor": 0,
  "metadata": {
    "colab": {
      "name": "Intro to Classsification.ipynb",
      "provenance": [],
      "authorship_tag": "ABX9TyPvSIXCu6sqIwpOCrgVqXr7",
      "include_colab_link": true
    },
    "kernelspec": {
      "name": "python3",
      "display_name": "Python 3"
    },
    "language_info": {
      "name": "python"
    }
  },
  "cells": [
    {
      "cell_type": "markdown",
      "metadata": {
        "id": "view-in-github",
        "colab_type": "text"
      },
      "source": [
        "<a href=\"https://colab.research.google.com/github/dyangeng/Tensorflow-Projects/blob/main/Intro_to_Classsification.ipynb\" target=\"_parent\"><img src=\"https://colab.research.google.com/assets/colab-badge.svg\" alt=\"Open In Colab\"/></a>"
      ]
    },
    {
      "cell_type": "code",
      "execution_count": null,
      "metadata": {
        "id": "iiLt-rAtsL_J"
      },
      "outputs": [],
      "source": [
        "# Import KNeighborsClassifier\n",
        "from sklearn.neighbors import KNeighborsClassifier \n",
        "\n",
        "# Create arrays for the features and the target variable\n",
        "y = churn_df[\"churn\"].values\n",
        "X = churn_df[[\"account_length\", \"customer_service_calls\"]].values\n",
        "\n",
        "# Create a KNN classifier with 6 neighbors\n",
        "knn = KNeighborsClassifier(n_neighbors = 6)\n",
        "\n",
        "# Fit the classifier to the data\n",
        "knn.fit(X,y)"
      ]
    },
    {
      "cell_type": "code",
      "source": [
        "# Predict the labels for the X_new\n",
        "y_pred = knn.predict(X_new)\n",
        "\n",
        "# Print the predictions for X_new\n",
        "print(\"Predictions: {}\".format(y_pred)) "
      ],
      "metadata": {
        "id": "Imn5BZ79sOeH"
      },
      "execution_count": null,
      "outputs": []
    },
    {
      "cell_type": "code",
      "source": [
        "# Import the module\n",
        "from sklearn.model_selection import train_test_split\n",
        "X = churn_df.drop(\"churn\", axis=1).values\n",
        "y = churn_df[\"churn\"].values\n",
        "\n",
        "# Split into training and test sets\n",
        "X_train, X_test, y_train, y_test = train_test_split(X,y, test_size=0.2, random_state=42, stratify=y)\n",
        "knn = KNeighborsClassifier(n_neighbors=5)\n",
        "\n",
        "# Fit the classifier to the training data\n",
        "knn.fit(X_train,y_train)\n",
        "\n",
        "# Print the accuracy\n",
        "print(knn.score(X_test, y_test))"
      ],
      "metadata": {
        "id": "F11nKdlTsSal"
      },
      "execution_count": null,
      "outputs": []
    },
    {
      "cell_type": "code",
      "source": [
        "# Create neighbors\n",
        "neighbors = np.arange(1, 13)\n",
        "train_accuracies = {}\n",
        "test_accuracies = {}\n",
        "\n",
        "for neighbor in neighbors:\n",
        "  \n",
        "\t# Set up a KNN Classifier\n",
        "\tknn = KNeighborsClassifier(n_neighbors = neighbor)\n",
        "  \n",
        "\t# Fit the model\n",
        "\tknn.fit(X_train, y_train)\n",
        "  \n",
        "\t# Compute accuracy\n",
        "\ttrain_accuracies[neighbor] = knn.score(X_train, y_train)\n",
        "\ttest_accuracies[neighbor] = knn.score(X_test, y_test)\n",
        "print(neighbors, '\\n', train_accuracies, '\\n', test_accuracies)"
      ],
      "metadata": {
        "id": "vNWRrlcrsUWO"
      },
      "execution_count": null,
      "outputs": []
    },
    {
      "cell_type": "code",
      "source": [
        "# Add a title\n",
        "plt.title(\"KNN: Varying Number of Neighbors\")\n",
        "\n",
        "# Plot training accuracies\n",
        "plt.plot(neighbors, train_accuracies.values(), label=\"Training Accuracy\")\n",
        "\n",
        "# Plot test accuracies\n",
        "plt.plot(neighbors, test_accuracies.values(), label=\"Testing Accuracy\")\n",
        "\n",
        "plt.legend()\n",
        "plt.xlabel(\"Number of Neighbors\")\n",
        "plt.ylabel(\"Accuracy\")\n",
        "\n",
        "# Display the plot\n",
        "plt.show()"
      ],
      "metadata": {
        "id": "Bf0TuzmXsWLV"
      },
      "execution_count": null,
      "outputs": []
    }
  ]
}